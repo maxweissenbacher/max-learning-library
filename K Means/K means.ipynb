{
 "cells": [
  {
   "cell_type": "markdown",
   "id": "fd79f2a1",
   "metadata": {},
   "source": [
    "# K means\n",
    "\n",
    "In this notebook, we test our implementation of the k-means algorithm on two datasets: a simple artifical dataset, and the MNIST digits dataset."
   ]
  },
  {
   "cell_type": "code",
   "execution_count": 1,
   "id": "a03f950d",
   "metadata": {},
   "outputs": [],
   "source": [
    "import numpy as np\n",
    "import pandas as pd\n",
    "import matplotlib.pyplot as plt\n",
    "import torch"
   ]
  },
  {
   "cell_type": "code",
   "execution_count": 2,
   "id": "555f74ec",
   "metadata": {},
   "outputs": [],
   "source": [
    "from kmeans import kmeans"
   ]
  },
  {
   "cell_type": "markdown",
   "id": "e520b310",
   "metadata": {},
   "source": [
    "## Testing on a simple artificial dataset"
   ]
  },
  {
   "cell_type": "markdown",
   "id": "6ef5624e",
   "metadata": {},
   "source": [
    "### Creating our artificial dataset"
   ]
  },
  {
   "cell_type": "code",
   "execution_count": 3,
   "id": "e586486a",
   "metadata": {},
   "outputs": [
    {
     "data": {
      "text/html": [
       "<div>\n",
       "<style scoped>\n",
       "    .dataframe tbody tr th:only-of-type {\n",
       "        vertical-align: middle;\n",
       "    }\n",
       "\n",
       "    .dataframe tbody tr th {\n",
       "        vertical-align: top;\n",
       "    }\n",
       "\n",
       "    .dataframe thead th {\n",
       "        text-align: right;\n",
       "    }\n",
       "</style>\n",
       "<table border=\"1\" class=\"dataframe\">\n",
       "  <thead>\n",
       "    <tr style=\"text-align: right;\">\n",
       "      <th></th>\n",
       "      <th>x1</th>\n",
       "      <th>x2</th>\n",
       "      <th>y</th>\n",
       "    </tr>\n",
       "  </thead>\n",
       "  <tbody>\n",
       "    <tr>\n",
       "      <th>0</th>\n",
       "      <td>0.400861</td>\n",
       "      <td>-1.749187</td>\n",
       "      <td>0.0</td>\n",
       "    </tr>\n",
       "    <tr>\n",
       "      <th>1</th>\n",
       "      <td>0.127457</td>\n",
       "      <td>-1.268889</td>\n",
       "      <td>0.0</td>\n",
       "    </tr>\n",
       "    <tr>\n",
       "      <th>2</th>\n",
       "      <td>-0.070220</td>\n",
       "      <td>-0.130070</td>\n",
       "      <td>0.0</td>\n",
       "    </tr>\n",
       "    <tr>\n",
       "      <th>3</th>\n",
       "      <td>-0.571212</td>\n",
       "      <td>0.560552</td>\n",
       "      <td>0.0</td>\n",
       "    </tr>\n",
       "    <tr>\n",
       "      <th>4</th>\n",
       "      <td>-1.928875</td>\n",
       "      <td>-0.766473</td>\n",
       "      <td>0.0</td>\n",
       "    </tr>\n",
       "  </tbody>\n",
       "</table>\n",
       "</div>"
      ],
      "text/plain": [
       "         x1        x2    y\n",
       "0  0.400861 -1.749187  0.0\n",
       "1  0.127457 -1.268889  0.0\n",
       "2 -0.070220 -0.130070  0.0\n",
       "3 -0.571212  0.560552  0.0\n",
       "4 -1.928875 -0.766473  0.0"
      ]
     },
     "execution_count": 3,
     "metadata": {},
     "output_type": "execute_result"
    }
   ],
   "source": [
    "def random2Dpoint(center):\n",
    "    \"\"\"\n",
    "    Returns a random point around center\n",
    "    \"\"\"\n",
    "    return np.random.randn(2) + center\n",
    "\n",
    "numP = 100\n",
    "points = [(*random2Dpoint([0,0]),0.) for i in range(numP)] + [(*random2Dpoint([3,3]),1.) for i in range(numP)]\n",
    "df = pd.DataFrame(points)\n",
    "df.columns = ['x1','x2','y']\n",
    "df.head()"
   ]
  },
  {
   "cell_type": "markdown",
   "id": "bc6f1f8a",
   "metadata": {},
   "source": [
    "Let's plot the dataset."
   ]
  },
  {
   "cell_type": "code",
   "execution_count": 4,
   "id": "917f88ce",
   "metadata": {},
   "outputs": [
    {
     "data": {
      "image/png": "[encoded data removed]",
      "text/plain": [
       "<Figure size 600x600 with 1 Axes>"
      ]
     },
     "metadata": {},
     "output_type": "display_data"
    }
   ],
   "source": [
    "colors = {0. : 'tab:red', 1. : 'tab:blue'}\n",
    "fig, ax = plt.subplots(figsize=(6, 6))\n",
    "\n",
    "grouped = df.groupby('y')\n",
    "for key, group in grouped:\n",
    "    group.plot(ax=ax, x='x1', y='x2', kind='scatter', color=colors[key])\n",
    "plt.show()"
   ]
  },
  {
   "cell_type": "markdown",
   "id": "4df5efff",
   "metadata": {},
   "source": [
    "For the sake of using the k-means algorithm, we remove the labels from the dataframe."
   ]
  },
  {
   "cell_type": "code",
   "execution_count": 5,
   "id": "bde7c546",
   "metadata": {},
   "outputs": [],
   "source": [
    "df_x = df.drop('y',axis=1)"
   ]
  },
  {
   "cell_type": "markdown",
   "id": "6d5dddf8",
   "metadata": {},
   "source": [
    "### Testing our implementation\n",
    "\n",
    "Now we are ready to run the algorithm. We use the standard Euclidean norm to determine distance between points."
   ]
  },
  {
   "cell_type": "code",
   "execution_count": 6,
   "id": "9ae9add7",
   "metadata": {},
   "outputs": [
    {
     "name": "stderr",
     "output_type": "stream",
     "text": [
      "4it [00:00, 297.42it/s]\n"
     ]
    }
   ],
   "source": [
    "learner = kmeans(df_x, k=2)\n",
    "learner.learn()"
   ]
  },
  {
   "cell_type": "markdown",
   "id": "ab7d22f2",
   "metadata": {},
   "source": [
    "We can predict labels on points like so:"
   ]
  },
  {
   "cell_type": "code",
   "execution_count": 7,
   "id": "40a54489",
   "metadata": {},
   "outputs": [
    {
     "data": {
      "text/plain": [
       "0    0\n",
       "1    0\n",
       "2    0\n",
       "3    0\n",
       "4    0\n",
       "dtype: int64"
      ]
     },
     "execution_count": 7,
     "metadata": {},
     "output_type": "execute_result"
    }
   ],
   "source": [
    "learner.predict(df_x).head()"
   ]
  },
  {
   "cell_type": "markdown",
   "id": "fc72124a",
   "metadata": {},
   "source": [
    "Since in this case we have the correct labels, we can compute the error rate of the classification (i.e. the percentage of incorrectly classified points). The method accepts a label dataframe Y (containing only values 0,...,k-1) as an argument and automatically deduces how to permute label indices. (Note that depending on the random initialisation in this case, we may need to swap 0 and 1)."
   ]
  },
  {
   "cell_type": "code",
   "execution_count": 8,
   "id": "b38a2cd3",
   "metadata": {
    "scrolled": true
   },
   "outputs": [],
   "source": [
    "Y = df.y\n",
    "err, perm = learner.accuracy(Y)"
   ]
  },
  {
   "cell_type": "code",
   "execution_count": 9,
   "id": "6172f17a",
   "metadata": {},
   "outputs": [
    {
     "name": "stdout",
     "output_type": "stream",
     "text": [
      "The error rate is 3.5% and the permutation to relate the original labels to the learned ones is (0, 1).\n"
     ]
    }
   ],
   "source": [
    "print(f'The error rate is {err*100 :.1f}% and the permutation to relate the original labels to the learned ones is {perm}.')"
   ]
  },
  {
   "cell_type": "markdown",
   "id": "2f209a7d",
   "metadata": {},
   "source": [
    "## Testing on the MNIST digits dataset"
   ]
  },
  {
   "cell_type": "markdown",
   "id": "c72b6211",
   "metadata": {},
   "source": [
    "### Importing the dataset"
   ]
  },
  {
   "cell_type": "code",
   "execution_count": 10,
   "id": "730c8da0",
   "metadata": {},
   "outputs": [
    {
     "data": {
      "text/plain": [
       "<Figure size 640x480 with 0 Axes>"
      ]
     },
     "metadata": {},
     "output_type": "display_data"
    },
    {
     "data": {
      "image/png": "[encoded data removed]",
      "text/plain": [
       "<Figure size 480x480 with 1 Axes>"
      ]
     },
     "metadata": {},
     "output_type": "display_data"
    }
   ],
   "source": [
    "from sklearn.datasets import load_digits\n",
    "\n",
    "digits = load_digits(as_frame = True)\n",
    "\n",
    "plt.gray()\n",
    "plt.matshow(digits.images[1])\n",
    "plt.show()"
   ]
  },
  {
   "cell_type": "markdown",
   "id": "0a6a9fe5",
   "metadata": {},
   "source": [
    "### Applying Principal Component Analysis"
   ]
  },
  {
   "cell_type": "code",
   "execution_count": 11,
   "id": "01d17d5e",
   "metadata": {},
   "outputs": [],
   "source": [
    "from sklearn.decomposition import PCA\n",
    "\n",
    "# Transform the data\n",
    "pca = PCA(5)\n",
    "df = pd.DataFrame(pca.fit_transform(digits.data))\n",
    "# Store the correct labels in Y\n",
    "Y = digits.target"
   ]
  },
  {
   "cell_type": "markdown",
   "id": "bb70c64e",
   "metadata": {},
   "source": [
    "There should be 10 distinct labels (digits) in our dataset:"
   ]
  },
  {
   "cell_type": "code",
   "execution_count": 12,
   "id": "f2fcf92a",
   "metadata": {},
   "outputs": [
    {
     "data": {
      "text/plain": [
       "10"
      ]
     },
     "execution_count": 12,
     "metadata": {},
     "output_type": "execute_result"
    }
   ],
   "source": [
    "len(Y.unique())"
   ]
  },
  {
   "cell_type": "markdown",
   "id": "3e10ed50",
   "metadata": {},
   "source": [
    "### Testing our implementation"
   ]
  },
  {
   "cell_type": "code",
   "execution_count": 13,
   "id": "57367d94",
   "metadata": {},
   "outputs": [
    {
     "name": "stderr",
     "output_type": "stream",
     "text": [
      "16it [00:00, 581.63it/s]\n"
     ]
    }
   ],
   "source": [
    "learner = kmeans(df, k=10)\n",
    "learner.learn()"
   ]
  },
  {
   "cell_type": "markdown",
   "id": "d19bb2e9",
   "metadata": {},
   "source": [
    "In order to test the accuracy, we need to look at all possible 10! permutations of our labels, in order to find the label permutation that best matches the original labels. This takes a while since 10! ~ 3.6 x 10^6. We activate a progress bar to see how far along we are."
   ]
  },
  {
   "cell_type": "code",
   "execution_count": 14,
   "id": "4f470780",
   "metadata": {
    "scrolled": true
   },
   "outputs": [
    {
     "name": "stderr",
     "output_type": "stream",
     "text": [
      "3628800it [12:11, 4958.31it/s]\n"
     ]
    }
   ],
   "source": [
    "err, perm = learner.accuracy(Y, show_progress_bar = True)"
   ]
  },
  {
   "cell_type": "code",
   "execution_count": 15,
   "id": "7d5382df",
   "metadata": {
    "scrolled": true
   },
   "outputs": [
    {
     "name": "stdout",
     "output_type": "stream",
     "text": [
      "The error rate is 33.2% and the permutation to relate the original labels to the learned ones is (5, 6, 3, 7, 1, 4, 2, 0, 8, 9).\n"
     ]
    }
   ],
   "source": [
    "print(f'The error rate is {err*100 :.1f}% and the permutation to relate the original labels to the learned ones is {perm}.')"
   ]
  },
  {
   "cell_type": "markdown",
   "id": "778a6803",
   "metadata": {},
   "source": [
    "Not a very good classification, but the algorithm seems to work."
   ]
  }
 ],
 "metadata": {
  "kernelspec": {
   "display_name": "Python 3 (ipykernel)",
   "language": "python",
   "name": "python3"
  },
  "language_info": {
   "codemirror_mode": {
    "name": "ipython",
    "version": 3
   },
   "file_extension": ".py",
   "mimetype": "text/x-python",
   "name": "python",
   "nbconvert_exporter": "python",
   "pygments_lexer": "ipython3",
   "version": "3.9.12"
  }
 },
 "nbformat": 4,
 "nbformat_minor": 5
}
